{
 "cells": [
  {
   "cell_type": "markdown",
   "metadata": {},
   "source": [
    "# 5강. 백트래킹"
   ]
  },
  {
   "cell_type": "markdown",
   "metadata": {},
   "source": [
    "5-2. 부분집합"
   ]
  },
  {
   "cell_type": "code",
   "execution_count": 8,
   "metadata": {},
   "outputs": [
    {
     "data": {
      "text/plain": [
       "'\\n목표 : 원소가 n개인 집합의 파워셋을 탐색하는 함수를 제작하라\\n예시 : 집합 a의 원소가 0,1,....,n-1. 트리 전체 높이 n, 현재 높이 k\\n\\n제약조건 : \\n'"
      ]
     },
     "execution_count": 8,
     "metadata": {},
     "output_type": "execute_result"
    }
   ],
   "source": [
    "'''\n",
    "목표 : 원소가 n개인 집합의 파워셋을 탐색하는 함수를 제작하라\n",
    "예시 : 집합 a의 원소가 0,1,....,n-1. 트리 전체 높이 n, 현재 높이 k\n",
    "\n",
    "제약조건 : \n",
    "'''"
   ]
  },
  {
   "cell_type": "code",
   "execution_count": null,
   "metadata": {},
   "outputs": [],
   "source": [
    "\"내 코드1 - d\"\n",
    "\n",
    "#a는 그냥 set임 즉 {0,1,2,3,4,...,n-1}\n",
    "#아이디어: 이거 for문으로 돌렸다간 끝이없음. 재귀로 짜야됨\n",
    "#k를 1들리는 부분을 추가함\n",
    "#선택되었느냐 안 되었느냐는 [0]*n의 리스트에 표현되어 있음\n",
    "a = [0,1,2,3,4,5]\n",
    "n = len(a)\n",
    "checklist = [0]*n\n",
    "\n",
    "def subset(a,k,n):\n",
    "    if k == n :\n",
    "        print(checklist)\n",
    "    else :\n",
    "        for i in range(2) :\n",
    "            checklist[k] = i\n",
    "            subset(a,k+1,n)\n",
    "\n",
    "subset(a,0,n)"
   ]
  },
  {
   "cell_type": "code",
   "execution_count": null,
   "metadata": {},
   "outputs": [],
   "source": [
    "\"예제코드1 - 부분집합 재귀\""
   ]
  },
  {
   "cell_type": "markdown",
   "metadata": {},
   "source": [
    "느낀점"
   ]
  },
  {
   "cell_type": "markdown",
   "metadata": {},
   "source": [
    "5-3. 순열"
   ]
  },
  {
   "cell_type": "code",
   "execution_count": null,
   "metadata": {},
   "outputs": [],
   "source": [
    "'''\n",
    "목표 : 원소가 n개인 집합의 순열을 탐색하는 함수를 작성하라\n",
    "예시 : 집합 a의 원소가 0,1,....,n-1. 트리 전체 높이 n, 현재 높이 k\n",
    "\n",
    "제약조건 : 1. 스스로 작성하기\n",
    "'''"
   ]
  },
  {
   "cell_type": "code",
   "execution_count": 1,
   "metadata": {},
   "outputs": [
    {
     "name": "stdout",
     "output_type": "stream",
     "text": [
      "[0, None, None, None]\n",
      "[0, 1, None, None]\n",
      "[0, 1, 2, None]\n",
      "[0, 1, 2, 3]\n",
      "----------\n",
      "answer : [0, 1, 2, 3]\n",
      "----------\n",
      "[0, 1, 3, 3]\n",
      "[0, 1, 3, 2]\n",
      "----------\n",
      "answer : [0, 1, 3, 2]\n",
      "----------\n",
      "[0, 2, 3, 2]\n",
      "[0, 2, 1, 2]\n",
      "[0, 2, 1, 3]\n",
      "----------\n",
      "answer : [0, 2, 1, 3]\n",
      "----------\n",
      "[0, 3, 1, 3]\n",
      "[0, 3, 2, 3]\n",
      "[0, 3, 2, 1]\n",
      "----------\n",
      "answer : [0, 3, 2, 1]\n",
      "----------\n",
      "[1, 3, 2, 1]\n",
      "[1, 0, 2, 1]\n",
      "[1, 0, 3, 1]\n",
      "[1, 0, 3, 2]\n",
      "----------\n",
      "answer : [1, 0, 3, 2]\n",
      "----------\n",
      "[2, 0, 3, 2]\n",
      "[2, 1, 3, 2]\n",
      "[2, 1, 0, 2]\n",
      "[2, 1, 0, 3]\n",
      "----------\n",
      "answer : [2, 1, 0, 3]\n",
      "----------\n",
      "[3, 1, 0, 3]\n",
      "[3, 2, 0, 3]\n",
      "[3, 2, 1, 3]\n",
      "[3, 2, 1, 0]\n",
      "----------\n",
      "answer : [3, 2, 1, 0]\n",
      "----------\n"
     ]
    }
   ],
   "source": [
    "\"내 코드2 - 순열 재귀\"\n",
    "\n",
    "#a는 그냥 set임 즉 {0,1,2,3,4,...,n-1}\n",
    "#아이디어: 위에랑 똑같음. 재귀로 짜면 됨\n",
    "#k를 1들리는 부분을 추가함\n",
    "#단, 순열은 순서이므로 음... 출력을 좀 다르게 해야함\n",
    "#만약 a = [A B C D E]라면\n",
    "#1. 진짜 a의 원소를 그대로 [E A D C B] 출력\n",
    "#2. 원소에 숫자를 대응시켜 출력 [5 1 4 3 2]\n",
    "#3. 해당 인덱스의 원소가 몇번인지 알려줌 [2 5 4 3 1]\n",
    "#2가 쉬워보이니 2로 하자\n",
    "\n",
    "a = [2,3,4,5]\n",
    "n = len(a)\n",
    "#0으로 초기화할 경우 문제발생.False도 0으로 취급해서 문제.\n",
    "#None으로 초기화해야 함\n",
    "checklist = [None]*n\n",
    "\n",
    "def perm(a,k,n):\n",
    "    if k == n :\n",
    "        print(\"----------\")\n",
    "        print(\"answer : {}\".format(checklist))\n",
    "        print(\"----------\")\n",
    "        return\n",
    "    else :\n",
    "        remain = set(range(n))-set(checklist)\n",
    "        for i in remain :\n",
    "            checklist[k] = i\n",
    "            print(checklist)\n",
    "            perm(a,k+1,n)\n",
    "\n",
    "perm(a,0,n)"
   ]
  },
  {
   "cell_type": "code",
   "execution_count": 66,
   "metadata": {},
   "outputs": [
    {
     "name": "stdout",
     "output_type": "stream",
     "text": [
      "[0, 1, 2, 3]\n",
      "[0, 1, 3, 2]\n",
      "[0, 2, 1, 3]\n",
      "[0, 2, 3, 1]\n",
      "[0, 3, 1, 2]\n",
      "[0, 3, 2, 1]\n",
      "[1, 0, 2, 3]\n",
      "[1, 0, 3, 2]\n",
      "[1, 2, 0, 3]\n",
      "[1, 2, 3, 0]\n",
      "[1, 3, 0, 2]\n",
      "[1, 3, 2, 0]\n",
      "[2, 0, 1, 3]\n",
      "[2, 0, 3, 1]\n",
      "[2, 1, 0, 3]\n",
      "[2, 1, 3, 0]\n",
      "[2, 3, 0, 1]\n",
      "[2, 3, 1, 0]\n",
      "[3, 0, 1, 2]\n",
      "[3, 0, 2, 1]\n",
      "[3, 1, 0, 2]\n",
      "[3, 1, 2, 0]\n",
      "[3, 2, 0, 1]\n",
      "[3, 2, 1, 0]\n"
     ]
    }
   ],
   "source": [
    "\"예제 코드 1 - 순열 재귀\"\n",
    "\n",
    "def permutation(order,k,n):\n",
    "    if k ==n:\n",
    "        print(order)\n",
    "    else :\n",
    "        check = [False]*n\n",
    "        for i in range(k) :\n",
    "            check[order[i]] = True\n",
    "            \n",
    "        for i in range(n) :\n",
    "            if check[i] == False:\n",
    "                order[k] =i\n",
    "                permutation(order,k+1,n)\n",
    "\n",
    "permutation(a,0,n)"
   ]
  },
  {
   "cell_type": "markdown",
   "metadata": {},
   "source": [
    "6-4 동전 거스름돈 문제"
   ]
  },
  {
   "cell_type": "code",
   "execution_count": null,
   "metadata": {},
   "outputs": [],
   "source": [
    "'''\n",
    "(최적화문제)\n",
    "목표 : 거스름돈이 800원이고 동전이 10 50 100 500원인 경우 최소 동전수를 구하여라\n",
    "예시 : \n",
    "제약조건 : 1. 스스로 작성하기\n",
    "'''"
   ]
  },
  {
   "cell_type": "code",
   "execution_count": null,
   "metadata": {},
   "outputs": [],
   "source": [
    "\"내 코드\"\n",
    "\n",
    "money = 800\n",
    "coin = [10,50,100,500]\n",
    "choice = [0]*len(coin)\n",
    "N = 0 \n",
    "#아이디어 :동전의 리스트를 만들고 참조 \n",
    "def CoinChange(choice,N,money) :\n",
    "    if money < 0 :\n",
    "        return\n",
    "    elif money == 0 :\n",
    "        print(N)\n",
    "        print(choice)\n",
    "        return\n",
    "    else :\n",
    "        for i in range(len(coin)) :\n",
    "            money -= coin[i]\n",
    "            choice[i] += coin[i]\n",
    "            CoinChange(choice,N+1,money)\n",
    "\n",
    "CoinChange(choice,N,money)"
   ]
  },
  {
   "cell_type": "code",
   "execution_count": null,
   "metadata": {},
   "outputs": [],
   "source": [
    "\"예제 코드\"\n",
    "def CoinChange2(choice,N,money):\n",
    "    global best\n",
    "    if best <=N:\n",
    "        return\n",
    "    elif money ==0:\n",
    "        best = N\n",
    "    else :\n",
    "        for i in range(len(coin)):\n",
    "            if money - coin[i] >= 0 :\n",
    "                choice[N]-coin[i]\n",
    "                CoinChange2(choice,N+1,money-coin[i])\n",
    "CoinChange2(choice,N,money)        "
   ]
  },
  {
   "cell_type": "markdown",
   "metadata": {},
   "source": [
    "느낀 점\n",
    "1. 재귀에서 신경써야 될 부분이 겁나 많음\n",
    "2. global까지 쓰면 머리 터짐"
   ]
  }
 ],
 "metadata": {
  "kernelspec": {
   "display_name": "Python 3",
   "language": "python",
   "name": "python3"
  },
  "varInspector": {
   "cols": {
    "lenName": 16,
    "lenType": 16,
    "lenVar": 40
   },
   "kernels_config": {
    "python": {
     "delete_cmd_postfix": "",
     "delete_cmd_prefix": "del ",
     "library": "var_list.py",
     "varRefreshCmd": "print(var_dic_list())"
    },
    "r": {
     "delete_cmd_postfix": ") ",
     "delete_cmd_prefix": "rm(",
     "library": "var_list.r",
     "varRefreshCmd": "cat(var_dic_list()) "
    }
   },
   "types_to_exclude": [
    "module",
    "function",
    "builtin_function_or_method",
    "instance",
    "_Feature"
   ],
   "window_display": false
  }
 },
 "nbformat": 4,
 "nbformat_minor": 2
}
