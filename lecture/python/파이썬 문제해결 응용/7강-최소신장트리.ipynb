{
 "cells": [
  {
   "cell_type": "markdown",
   "metadata": {},
   "source": [
    "# 7강. 최소 신장 트리"
   ]
  },
  {
   "cell_type": "markdown",
   "metadata": {},
   "source": [
    "7-2. 프림 알고리즘"
   ]
  },
  {
   "cell_type": "code",
   "execution_count": null,
   "metadata": {},
   "outputs": [],
   "source": [
    "'''\n",
    "목표 : 프림 알고리즘을 직접 짜보십쇼\n",
    "예시 : \n",
    "제약조건 : 1. 스스로 짤 것\n",
    "'''"
   ]
  },
  {
   "cell_type": "code",
   "execution_count": 26,
   "metadata": {},
   "outputs": [
    {
     "ename": "SyntaxError",
     "evalue": "invalid syntax (<ipython-input-26-4a9e87e74a3a>, line 18)",
     "output_type": "error",
     "traceback": [
      "\u001b[1;36m  File \u001b[1;32m\"<ipython-input-26-4a9e87e74a3a>\"\u001b[1;36m, line \u001b[1;32m18\u001b[0m\n\u001b[1;33m    def MST_PRIM(G,s)\u001b[0m\n\u001b[1;37m                     ^\u001b[0m\n\u001b[1;31mSyntaxError\u001b[0m\u001b[1;31m:\u001b[0m invalid syntax\n"
     ]
    }
   ],
   "source": [
    "\"내 코드1 - 프림 알고리즘\"\n",
    "\n",
    "#개념 : 그래프가 주어지면, 처음에 정점을 하나 찍는다(for문). 아 이건 필요없는듯\n",
    "#그 정점에서 연결된 최소점 찾는다(for문)\n",
    "#연결한다\n",
    "#연결된 정점에서 인접정점들을 목록에 추가한다.\n",
    "#연결됨 정점을 visited에 추가한다.\n",
    "#반복한다.\n",
    "#재귀로 짤 수 있나 이거?\n",
    "\n",
    "#일단 그래프 자료구조부터 만들자 그냥\n",
    "#그래프는 dict이고, key는 정점이름이고 value도 dict이다.\n",
    "#value에는 인접 이름이 key고 가중치가 value이다\n",
    "#얘를들어 4각형을 보면\n",
    "G = {1:{2:5,3:4,4:1},2:{1:5,3:2,4:3},3:{1:4,2:2,4:5},4:{1:1,2:3,3:5}}\n",
    "connected = []\n",
    "visited = []\n",
    "def MST_PRIM(G,s) :\n",
    "    connected[s] = G[s]\n",
    "    new_node = [key for key,value in G[s].items() if G[s][key] == min(G[s].values())]\n",
    "    connected += new_node\n",
    "    visited += "
   ]
  },
  {
   "cell_type": "markdown",
   "metadata": {},
   "source": [
    "느낀점\n",
    "1. dict에서 최소값을 찾을때\n",
    "min(dict)는 key의 최소값, min(dict.values())는 value의 최소값\n",
    "2. 최소값을 갖는 키를 찾으려면\n",
    "[for if ]문을 쓰거나, 아니면 정렬하고 처음값 찾거나 중 택 1\n",
    "3. 리스트에 += 사용가능"
   ]
  },
  {
   "cell_type": "code",
   "execution_count": null,
   "metadata": {},
   "outputs": [],
   "source": [
    "\"예제코드1 - 프림 알고리즘\"\n",
    "\n",
    "#근데 이게 for안에 for 또 돌아가는건 어쩔 수 없는듯"
   ]
  },
  {
   "cell_type": "markdown",
   "metadata": {},
   "source": [
    "느낀점"
   ]
  },
  {
   "cell_type": "markdown",
   "metadata": {},
   "source": [
    "7-3. 크루스칼 알고리즘"
   ]
  },
  {
   "cell_type": "code",
   "execution_count": null,
   "metadata": {},
   "outputs": [],
   "source": []
  },
  {
   "cell_type": "markdown",
   "metadata": {},
   "source": [
    "7-5."
   ]
  }
 ],
 "metadata": {
  "kernelspec": {
   "display_name": "Python 3",
   "language": "python",
   "name": "python3"
  },
  "language_info": {
   "codemirror_mode": {
    "name": "ipython",
    "version": 3
   },
   "file_extension": ".py",
   "mimetype": "text/x-python",
   "name": "python",
   "nbconvert_exporter": "python",
   "pygments_lexer": "ipython3",
   "version": "3.7.1"
  },
  "varInspector": {
   "cols": {
    "lenName": 16,
    "lenType": 16,
    "lenVar": 40
   },
   "kernels_config": {
    "python": {
     "delete_cmd_postfix": "",
     "delete_cmd_prefix": "del ",
     "library": "var_list.py",
     "varRefreshCmd": "print(var_dic_list())"
    },
    "r": {
     "delete_cmd_postfix": ") ",
     "delete_cmd_prefix": "rm(",
     "library": "var_list.r",
     "varRefreshCmd": "cat(var_dic_list()) "
    }
   },
   "types_to_exclude": [
    "module",
    "function",
    "builtin_function_or_method",
    "instance",
    "_Feature"
   ],
   "window_display": false
  }
 },
 "nbformat": 4,
 "nbformat_minor": 2
}
