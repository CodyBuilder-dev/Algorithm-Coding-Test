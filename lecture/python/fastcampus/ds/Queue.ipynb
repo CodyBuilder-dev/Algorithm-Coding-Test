{
 "metadata": {
  "language_info": {
   "codemirror_mode": {
    "name": "ipython",
    "version": 3
   },
   "file_extension": ".py",
   "mimetype": "text/x-python",
   "name": "python",
   "nbconvert_exporter": "python",
   "pygments_lexer": "ipython3",
   "version": "3.7.6-final"
  },
  "orig_nbformat": 2,
  "kernelspec": {
   "name": "python_defaultSpec_1598782803909",
   "display_name": "Python 3.7.6 64-bit ('data37': conda)"
  }
 },
 "nbformat": 4,
 "nbformat_minor": 2,
 "cells": [
  {
   "cell_type": "markdown",
   "metadata": {},
   "source": [
    "# 큐(Queue)\n",
    "- 개념 : FIFO를 만족하는 데이터 구조\n",
    "- 용어 : Enque(=push)/Deque(=pop)\n",
    "- 파이썬 큐 구현체 : queue 라이브러리 내 Queue 클래스"
   ]
  },
  {
   "cell_type": "code",
   "execution_count": 1,
   "metadata": {
    "tags": []
   },
   "outputs": [
    {
     "output_type": "stream",
     "name": "stdout",
     "text": "['__class__', '__delattr__', '__dict__', '__dir__', '__doc__', '__eq__', '__format__', '__ge__', '__getattribute__', '__gt__', '__hash__', '__init__', '__init_subclass__', '__le__', '__lt__', '__module__', '__ne__', '__new__', '__reduce__', '__reduce_ex__', '__repr__', '__setattr__', '__sizeof__', '__str__', '__subclasshook__', '__weakref__', '_get', '_init', '_put', '_qsize', 'all_tasks_done', 'empty', 'full', 'get', 'get_nowait', 'join', 'maxsize', 'mutex', 'not_empty', 'not_full', 'put', 'put_nowait', 'qsize', 'queue', 'task_done', 'unfinished_tasks']\nHelp on Queue in module queue object:\n\nclass Queue(builtins.object)\n |  Queue(maxsize=0)\n |  \n |  Create a queue object with a given maximum size.\n |  \n |  If maxsize is <= 0, the queue size is infinite.\n |  \n |  Methods defined here:\n |  \n |  __init__(self, maxsize=0)\n |      Initialize self.  See help(type(self)) for accurate signature.\n |  \n |  empty(self)\n |      Return True if the queue is empty, False otherwise (not reliable!).\n |      \n |      This method is likely to be removed at some point.  Use qsize() == 0\n |      as a direct substitute, but be aware that either approach risks a race\n |      condition where a queue can grow before the result of empty() or\n |      qsize() can be used.\n |      \n |      To create code that needs to wait for all queued tasks to be\n |      completed, the preferred technique is to use the join() method.\n |  \n |  full(self)\n |      Return True if the queue is full, False otherwise (not reliable!).\n |      \n |      This method is likely to be removed at some point.  Use qsize() >= n\n |      as a direct substitute, but be aware that either approach risks a race\n |      condition where a queue can shrink before the result of full() or\n |      qsize() can be used.\n |  \n |  get(self, block=True, timeout=None)\n |      Remove and return an item from the queue.\n |      \n |      If optional args 'block' is true and 'timeout' is None (the default),\n |      block if necessary until an item is available. If 'timeout' is\n |      a non-negative number, it blocks at most 'timeout' seconds and raises\n |      the Empty exception if no item was available within that time.\n |      Otherwise ('block' is false), return an item if one is immediately\n |      available, else raise the Empty exception ('timeout' is ignored\n |      in that case).\n |  \n |  get_nowait(self)\n |      Remove and return an item from the queue without blocking.\n |      \n |      Only get an item if one is immediately available. Otherwise\n |      raise the Empty exception.\n |  \n |  join(self)\n |      Blocks until all items in the Queue have been gotten and processed.\n |      \n |      The count of unfinished tasks goes up whenever an item is added to the\n |      queue. The count goes down whenever a consumer thread calls task_done()\n |      to indicate the item was retrieved and all work on it is complete.\n |      \n |      When the count of unfinished tasks drops to zero, join() unblocks.\n |  \n |  put(self, item, block=True, timeout=None)\n |      Put an item into the queue.\n |      \n |      If optional args 'block' is true and 'timeout' is None (the default),\n |      block if necessary until a free slot is available. If 'timeout' is\n |      a non-negative number, it blocks at most 'timeout' seconds and raises\n |      the Full exception if no free slot was available within that time.\n |      Otherwise ('block' is false), put an item on the queue if a free slot\n |      is immediately available, else raise the Full exception ('timeout'\n |      is ignored in that case).\n |  \n |  put_nowait(self, item)\n |      Put an item into the queue without blocking.\n |      \n |      Only enqueue the item if a free slot is immediately available.\n |      Otherwise raise the Full exception.\n |  \n |  qsize(self)\n |      Return the approximate size of the queue (not reliable!).\n |  \n |  task_done(self)\n |      Indicate that a formerly enqueued task is complete.\n |      \n |      Used by Queue consumer threads.  For each get() used to fetch a task,\n |      a subsequent call to task_done() tells the queue that the processing\n |      on the task is complete.\n |      \n |      If a join() is currently blocking, it will resume when all items\n |      have been processed (meaning that a task_done() call was received\n |      for every item that had been put() into the queue).\n |      \n |      Raises a ValueError if called more times than there were items\n |      placed in the queue.\n |  \n |  ----------------------------------------------------------------------\n |  Data descriptors defined here:\n |  \n |  __dict__\n |      dictionary for instance variables (if defined)\n |  \n |  __weakref__\n |      list of weak references to the object (if defined)\n\n"
    }
   ],
   "source": [
    "# Queue 클래스 이용\n",
    "from queue import Queue\n",
    "q = Queue()\n",
    "\n",
    "# dir 함수로 인스턴스 내의 속성값 보기\n",
    "print(dir(q))\n",
    "\n",
    "# help 함수로 인스턴스 내의 설명 보기\n",
    "help(q)"
   ]
  },
  {
   "cell_type": "code",
   "execution_count": 13,
   "metadata": {},
   "outputs": [],
   "source": [
    "q.put(1)\n",
    "q.put(2)"
   ]
  },
  {
   "cell_type": "code",
   "execution_count": 14,
   "metadata": {
    "tags": []
   },
   "outputs": [
    {
     "output_type": "execute_result",
     "data": {
      "text/plain": "2"
     },
     "metadata": {},
     "execution_count": 14
    }
   ],
   "source": [
    "# 주의! 비어있는 q에 get()을 수행하면 커널이 죽는다 -> 이유는 모름 ㅜ\n",
    "q.get()\n"
   ]
  },
  {
   "cell_type": "code",
   "execution_count": 5,
   "metadata": {},
   "outputs": [
    {
     "output_type": "execute_result",
     "data": {
      "text/plain": "0"
     },
     "metadata": {},
     "execution_count": 5
    }
   ],
   "source": [
    "q.qsize()"
   ]
  },
  {
   "cell_type": "code",
   "execution_count": 9,
   "metadata": {},
   "outputs": [],
   "source": [
    "from queue import LifoQueue\n",
    "q = LifoQueue()"
   ]
  },
  {
   "cell_type": "code",
   "execution_count": 11,
   "metadata": {},
   "outputs": [],
   "source": [
    "q.put(3)\n",
    "q.put(2)"
   ]
  },
  {
   "cell_type": "code",
   "execution_count": 20,
   "metadata": {
    "tags": []
   },
   "outputs": [
    {
     "output_type": "stream",
     "name": "stdout",
     "text": "['__class__', '__delattr__', '__dict__', '__dir__', '__doc__', '__eq__', '__format__', '__ge__', '__getattribute__', '__gt__', '__hash__', '__init__', '__init_subclass__', '__le__', '__lt__', '__module__', '__ne__', '__new__', '__reduce__', '__reduce_ex__', '__repr__', '__setattr__', '__sizeof__', '__str__', '__subclasshook__', '__weakref__', '_get', '_init', '_put', '_qsize', 'all_tasks_done', 'empty', 'full', 'get', 'get_nowait', 'join', 'maxsize', 'mutex', 'not_empty', 'not_full', 'put', 'put_nowait', 'qsize', 'queue', 'task_done', 'unfinished_tasks']\nHelp on LifoQueue in module queue object:\n\nclass LifoQueue(Queue)\n |  LifoQueue(maxsize=0)\n |  \n |  Variant of Queue that retrieves most recently added entries first.\n |  \n |  Method resolution order:\n |      LifoQueue\n |      Queue\n |      builtins.object\n |  \n |  Methods inherited from Queue:\n |  \n |  __init__(self, maxsize=0)\n |      Initialize self.  See help(type(self)) for accurate signature.\n |  \n |  empty(self)\n |      Return True if the queue is empty, False otherwise (not reliable!).\n |      \n |      This method is likely to be removed at some point.  Use qsize() == 0\n |      as a direct substitute, but be aware that either approach risks a race\n |      condition where a queue can grow before the result of empty() or\n |      qsize() can be used.\n |      \n |      To create code that needs to wait for all queued tasks to be\n |      completed, the preferred technique is to use the join() method.\n |  \n |  full(self)\n |      Return True if the queue is full, False otherwise (not reliable!).\n |      \n |      This method is likely to be removed at some point.  Use qsize() >= n\n |      as a direct substitute, but be aware that either approach risks a race\n |      condition where a queue can shrink before the result of full() or\n |      qsize() can be used.\n |  \n |  get(self, block=True, timeout=None)\n |      Remove and return an item from the queue.\n |      \n |      If optional args 'block' is true and 'timeout' is None (the default),\n |      block if necessary until an item is available. If 'timeout' is\n |      a non-negative number, it blocks at most 'timeout' seconds and raises\n |      the Empty exception if no item was available within that time.\n |      Otherwise ('block' is false), return an item if one is immediately\n |      available, else raise the Empty exception ('timeout' is ignored\n |      in that case).\n |  \n |  get_nowait(self)\n |      Remove and return an item from the queue without blocking.\n |      \n |      Only get an item if one is immediately available. Otherwise\n |      raise the Empty exception.\n |  \n |  join(self)\n |      Blocks until all items in the Queue have been gotten and processed.\n |      \n |      The count of unfinished tasks goes up whenever an item is added to the\n |      queue. The count goes down whenever a consumer thread calls task_done()\n |      to indicate the item was retrieved and all work on it is complete.\n |      \n |      When the count of unfinished tasks drops to zero, join() unblocks.\n |  \n |  put(self, item, block=True, timeout=None)\n |      Put an item into the queue.\n |      \n |      If optional args 'block' is true and 'timeout' is None (the default),\n |      block if necessary until a free slot is available. If 'timeout' is\n |      a non-negative number, it blocks at most 'timeout' seconds and raises\n |      the Full exception if no free slot was available within that time.\n |      Otherwise ('block' is false), put an item on the queue if a free slot\n |      is immediately available, else raise the Full exception ('timeout'\n |      is ignored in that case).\n |  \n |  put_nowait(self, item)\n |      Put an item into the queue without blocking.\n |      \n |      Only enqueue the item if a free slot is immediately available.\n |      Otherwise raise the Full exception.\n |  \n |  qsize(self)\n |      Return the approximate size of the queue (not reliable!).\n |  \n |  task_done(self)\n |      Indicate that a formerly enqueued task is complete.\n |      \n |      Used by Queue consumer threads.  For each get() used to fetch a task,\n |      a subsequent call to task_done() tells the queue that the processing\n |      on the task is complete.\n |      \n |      If a join() is currently blocking, it will resume when all items\n |      have been processed (meaning that a task_done() call was received\n |      for every item that had been put() into the queue).\n |      \n |      Raises a ValueError if called more times than there were items\n |      placed in the queue.\n |  \n |  ----------------------------------------------------------------------\n |  Data descriptors inherited from Queue:\n |  \n |  __dict__\n |      dictionary for instance variables (if defined)\n |  \n |  __weakref__\n |      list of weak references to the object (if defined)\n\nNone\n"
    }
   ],
   "source": [
    "print(dir(q))\n",
    "print(help(q))"
   ]
  },
  {
   "cell_type": "code",
   "execution_count": 15,
   "metadata": {},
   "outputs": [
    {
     "output_type": "execute_result",
     "data": {
      "text/plain": "1"
     },
     "metadata": {},
     "execution_count": 15
    }
   ],
   "source": [
    "q.get()"
   ]
  },
  {
   "cell_type": "markdown",
   "metadata": {},
   "source": [
    "# 우선순위 큐 (PriorityQueue)\n",
    "- 개념 : 시간순이 아니라, 데이터의 우선순위 순으로 out\n",
    "- 파이썬 구현체 : queue 라이브러리의 PriorityQueue"
   ]
  },
  {
   "cell_type": "code",
   "execution_count": 21,
   "metadata": {},
   "outputs": [],
   "source": [
    "from queue import PriorityQueue\n",
    "q = PriorityQueue()"
   ]
  },
  {
   "cell_type": "code",
   "execution_count": 22,
   "metadata": {
    "tags": []
   },
   "outputs": [
    {
     "output_type": "stream",
     "name": "stdout",
     "text": "['__class__', '__delattr__', '__dict__', '__dir__', '__doc__', '__eq__', '__format__', '__ge__', '__getattribute__', '__gt__', '__hash__', '__init__', '__init_subclass__', '__le__', '__lt__', '__module__', '__ne__', '__new__', '__reduce__', '__reduce_ex__', '__repr__', '__setattr__', '__sizeof__', '__str__', '__subclasshook__', '__weakref__', '_get', '_init', '_put', '_qsize', 'all_tasks_done', 'empty', 'full', 'get', 'get_nowait', 'join', 'maxsize', 'mutex', 'not_empty', 'not_full', 'put', 'put_nowait', 'qsize', 'queue', 'task_done', 'unfinished_tasks']\nHelp on PriorityQueue in module queue object:\n\nclass PriorityQueue(Queue)\n |  PriorityQueue(maxsize=0)\n |  \n |  Variant of Queue that retrieves open entries in priority order (lowest first).\n |  \n |  Entries are typically tuples of the form:  (priority number, data).\n |  \n |  Method resolution order:\n |      PriorityQueue\n |      Queue\n |      builtins.object\n |  \n |  Methods inherited from Queue:\n |  \n |  __init__(self, maxsize=0)\n |      Initialize self.  See help(type(self)) for accurate signature.\n |  \n |  empty(self)\n |      Return True if the queue is empty, False otherwise (not reliable!).\n |      \n |      This method is likely to be removed at some point.  Use qsize() == 0\n |      as a direct substitute, but be aware that either approach risks a race\n |      condition where a queue can grow before the result of empty() or\n |      qsize() can be used.\n |      \n |      To create code that needs to wait for all queued tasks to be\n |      completed, the preferred technique is to use the join() method.\n |  \n |  full(self)\n |      Return True if the queue is full, False otherwise (not reliable!).\n |      \n |      This method is likely to be removed at some point.  Use qsize() >= n\n |      as a direct substitute, but be aware that either approach risks a race\n |      condition where a queue can shrink before the result of full() or\n |      qsize() can be used.\n |  \n |  get(self, block=True, timeout=None)\n |      Remove and return an item from the queue.\n |      \n |      If optional args 'block' is true and 'timeout' is None (the default),\n |      block if necessary until an item is available. If 'timeout' is\n |      a non-negative number, it blocks at most 'timeout' seconds and raises\n |      the Empty exception if no item was available within that time.\n |      Otherwise ('block' is false), return an item if one is immediately\n |      available, else raise the Empty exception ('timeout' is ignored\n |      in that case).\n |  \n |  get_nowait(self)\n |      Remove and return an item from the queue without blocking.\n |      \n |      Only get an item if one is immediately available. Otherwise\n |      raise the Empty exception.\n |  \n |  join(self)\n |      Blocks until all items in the Queue have been gotten and processed.\n |      \n |      The count of unfinished tasks goes up whenever an item is added to the\n |      queue. The count goes down whenever a consumer thread calls task_done()\n |      to indicate the item was retrieved and all work on it is complete.\n |      \n |      When the count of unfinished tasks drops to zero, join() unblocks.\n |  \n |  put(self, item, block=True, timeout=None)\n |      Put an item into the queue.\n |      \n |      If optional args 'block' is true and 'timeout' is None (the default),\n |      block if necessary until a free slot is available. If 'timeout' is\n |      a non-negative number, it blocks at most 'timeout' seconds and raises\n |      the Full exception if no free slot was available within that time.\n |      Otherwise ('block' is false), put an item on the queue if a free slot\n |      is immediately available, else raise the Full exception ('timeout'\n |      is ignored in that case).\n |  \n |  put_nowait(self, item)\n |      Put an item into the queue without blocking.\n |      \n |      Only enqueue the item if a free slot is immediately available.\n |      Otherwise raise the Full exception.\n |  \n |  qsize(self)\n |      Return the approximate size of the queue (not reliable!).\n |  \n |  task_done(self)\n |      Indicate that a formerly enqueued task is complete.\n |      \n |      Used by Queue consumer threads.  For each get() used to fetch a task,\n |      a subsequent call to task_done() tells the queue that the processing\n |      on the task is complete.\n |      \n |      If a join() is currently blocking, it will resume when all items\n |      have been processed (meaning that a task_done() call was received\n |      for every item that had been put() into the queue).\n |      \n |      Raises a ValueError if called more times than there were items\n |      placed in the queue.\n |  \n |  ----------------------------------------------------------------------\n |  Data descriptors inherited from Queue:\n |  \n |  __dict__\n |      dictionary for instance variables (if defined)\n |  \n |  __weakref__\n |      list of weak references to the object (if defined)\n\nNone\n"
    }
   ],
   "source": [
    "print(dir(q))\n",
    "print(help(q))"
   ]
  },
  {
   "cell_type": "code",
   "execution_count": 29,
   "metadata": {},
   "outputs": [],
   "source": [
    "# Priority Queue 에서 put(데이터)를 할 경우, 내부적인 우선순위 계산\n",
    "# put((우선순위,데이터)))로 튜플을 넣을 경우, 튜플의 첫번째 원소 를 기준으로 우선순위를 계산\n",
    "q.put((1,2))\n",
    "q.put((2,1))"
   ]
  },
  {
   "cell_type": "code",
   "execution_count": 32,
   "metadata": {},
   "outputs": [],
   "source": [
    "q.get()"
   ]
  },
  {
   "cell_type": "markdown",
   "metadata": {},
   "source": [
    "## 프로그래밍 연습\n",
    "### 연습1. 리스트로 Queue 구현하기"
   ]
  },
  {
   "cell_type": "markdown",
   "metadata": {},
   "source": [
    "## 큐의 장단점\n",
    "- 딱히 장단점은 없음\n",
    "- 용도 : 순차적으로 이벤트가 들어오는 상황을 다룰 때 사용\n",
    "    - (운영체제의 멀티프로세스 스케줄링, 웹서버의 Request 처리)"
   ]
  },
  {
   "cell_type": "code",
   "execution_count": 13,
   "metadata": {
    "tags": []
   },
   "outputs": [],
   "source": [
    "target_queue = []\n",
    "# 전역 리스트로 구현하는게 맞을 거 같음\n",
    "def enqueue(data) :\n",
    "    target_queue.append(data)\n",
    "\n",
    "def dequeue() :\n",
    "    return target_queue.pop(0) # pop을 이용하면 한번에 해결 가능\n",
    "    # data = target_queue[0]\n",
    "    # del target_queue[0]\n",
    "    # return data"
   ]
  },
  {
   "cell_type": "markdown",
   "metadata": {},
   "source": [
    "### 연습2. 클래스로 Queue 구현하기"
   ]
  },
  {
   "cell_type": "code",
   "execution_count": null,
   "metadata": {},
   "outputs": [],
   "source": []
  }
 ]
}