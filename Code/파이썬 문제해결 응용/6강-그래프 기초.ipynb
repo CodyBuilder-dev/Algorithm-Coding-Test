{
 "cells": [
  {
   "cell_type": "markdown",
   "metadata": {},
   "source": [
    "# 6강. 그래프 기초"
   ]
  },
  {
   "cell_type": "markdown",
   "metadata": {},
   "source": [
    "6-2 그래프 탐색"
   ]
  },
  {
   "cell_type": "code",
   "execution_count": null,
   "metadata": {},
   "outputs": [],
   "source": [
    "'''\n",
    "목표 : DFS를 수행하는 코드를, 재귀방식이랑 호출방식 2가지로 짜라\n",
    "제한조건 : 1. 스스로 짤 것\n",
    "'''"
   ]
  },
  {
   "cell_type": "code",
   "execution_count": null,
   "metadata": {},
   "outputs": [],
   "source": [
    "\"내 코드1 - DFS 재귀\"\n",
    "\n",
    "#재귀를 짜려면 일단 함수를 짜야함.\n",
    "# 함수를 짜되, 딱 한가지 일만\n",
    "#그래프를 찾는 과정은 1.방문표기 2.원하는 동작 수행 3.인접정점 확인 4.미방문지점 방문\n",
    "#이를 위해선 입력으로 그래프 정보, 방문 정보 받아야 함\n",
    " \n",
    "\n",
    "visited = [False]*len(G)\n",
    "sum = 0\n",
    "\n",
    "def DFS_Recur(visited,G,v,sum) :\n",
    "    visited[v] = True\n",
    "    sum += v\n",
    "    for w in G(v):\n",
    "        if visited[w] == False :\n",
    "            DFS_Recur(visited,G,w,sum)           "
   ]
  },
  {
   "cell_type": "code",
   "execution_count": null,
   "metadata": {},
   "outputs": [],
   "source": [
    "\"예제 코드1 - DFS 재귀\"\n",
    "\n",
    "def DFS_Recursive(G,v):\n",
    "    visited[v] = True\n",
    "    visit(v)\n",
    "    for w in G[v]:\n",
    "        if not visited[w]:\n",
    "            DFS_Recursive(G,w)"
   ]
  },
  {
   "cell_type": "code",
   "execution_count": null,
   "metadata": {},
   "outputs": [],
   "source": [
    "\"내 코드2 - DFS 반복\"\n",
    "\n",
    "visited_stack = []\n",
    "visited_list = []\n",
    "#마찬가지 과정으로 진행됨\n",
    "def DFS_iter(visited,G,v,sum):\n",
    "    visited_stack.append(v)\n",
    "    visited_list.append(v)\n",
    "    sum += v\n",
    "    while stack:\n",
    "        v= visited_stack.pop()\n",
    "        if v not in visited_list\n",
    "        \n",
    "        if not visitited"
   ]
  },
  {
   "cell_type": "code",
   "execution_count": 14,
   "metadata": {},
   "outputs": [
    {
     "data": {
      "text/plain": [
       "[1, 2, 3, 4, 5, 1, 2, 3]"
      ]
     },
     "execution_count": 14,
     "metadata": {},
     "output_type": "execute_result"
    }
   ],
   "source": [
    "a= [1,2,3,4,5]\n",
    "a.extend([1,2,3])\n",
    "a"
   ]
  },
  {
   "cell_type": "code",
   "execution_count": 2,
   "metadata": {},
   "outputs": [],
   "source": [
    "\"에제 코드2 - DFS 반복\"\n",
    "#일단 다 처넣고, 뺴면서 돌아가는 식으로 해결했네;\n",
    "#개천재;\n",
    "def DFS_iterative(S,v):\n",
    "    S = [v]\n",
    "    while stack:\n",
    "        v = S.pop()\n",
    "        if v not in visited:\n",
    "            visited.append(v)\n",
    "            visit()\n",
    "            S.extend(G[v]-set(visited))\n",
    "            \n",
    "    return visited"
   ]
  },
  {
   "cell_type": "code",
   "execution_count": null,
   "metadata": {},
   "outputs": [],
   "source": [
    "\"나의 코드3 - BFS 반복\"\n",
    "\n",
    "#순서: 지금 있는곳 다 방문하고, 제일 처음 곳으로 돌아가서 다시 반복\n",
    "#아이디어 : for문 돌려서 다 방문하기. 큐에 넣기, 큐의 첫번쨰로 돌아가서 반복\n",
    "#1. 시작점큐에 넣는다. 2. 그 인접행렬들도 따라서 큐에 넣는다\n",
    "#3.인접행렬들 다 돌면서 도장찍고 돌아온다. 4. 첫행렬 큐에서 뺀다.\n",
    "#리스트를 큐로서 활용함 (pop(0))사용\n",
    "def BFS_iter():\n",
    "    Q = [v]\n",
    "    \n",
    "    while Q :\n",
    "        v = Q.pop(0)\n",
    "        if v not visited :\n",
    "            visited.append(v)\n",
    "            execute\n",
    "        Q.extend(G(v)-visited)\n",
    "        \n",
    "        for w in G(v):\n",
    "            if w not visited:\n",
    "                visited.append(w)\n",
    "                execute()\n",
    "                \n",
    "    return visited"
   ]
  },
  {
   "cell_type": "code",
   "execution_count": null,
   "metadata": {},
   "outputs": [],
   "source": [
    "\"예제 코드3 - BFS 반복\"\n",
    "\n",
    "def BFS_iteration(Q,v):\n",
    "    Q.append(v)\n",
    "    visited[v] = True\n",
    "    visit(v)\n",
    "    while Q:\n",
    "        v = Q.pop()\n",
    "        for w in G[v]:\n",
    "            if not visited[w]:\n",
    "                Q.append(w)\n",
    "                visited[w] = True\n",
    "                visit(w)"
   ]
  },
  {
   "cell_type": "code",
   "execution_count": null,
   "metadata": {},
   "outputs": [],
   "source": [
    "\"나의 코드4 - BFS 재귀\"\n",
    "\n",
    "def"
   ]
  },
  {
   "cell_type": "code",
   "execution_count": null,
   "metadata": {},
   "outputs": [],
   "source": [
    "\"예제 코드4 - BFS 재귀\""
   ]
  },
  {
   "cell_type": "markdown",
   "metadata": {},
   "source": [
    "6-3. 상호배타 집합"
   ]
  },
  {
   "cell_type": "code",
   "execution_count": null,
   "metadata": {},
   "outputs": [],
   "source": [
    "'''\n",
    "목표 : 상호배타 집합의 연산 3가지를 구현하는 함수를 만들어라\n",
    "제한조건 : 스스로 짜기\n",
    "'''"
   ]
  },
  {
   "cell_type": "code",
   "execution_count": null,
   "metadata": {},
   "outputs": [],
   "source": [
    "\"내 코드1 - 상호배타 연산\"\n",
    "\n",
    "#연산에는 3가지, make,find,union이 있다\n",
    "#상호배타 집합을... 딕셔너리로 나타내나? 리스트로 나타내나?\n",
    "\n"
   ]
  },
  {
   "cell_type": "code",
   "execution_count": null,
   "metadata": {},
   "outputs": [],
   "source": [
    "def Make_Set(x):\n",
    "    p[x] =x\n",
    "\n",
    "def Find_Set(x):\n",
    "    if x == p[x] : Return x\n",
    "    else : Return \n",
    "\n",
    "def Union(x,y)"
   ]
  }
 ],
 "metadata": {
  "kernelspec": {
   "display_name": "Python 3",
   "language": "python",
   "name": "python3"
  },
  "language_info": {
   "codemirror_mode": {
    "name": "ipython",
    "version": 3
   },
   "file_extension": ".py",
   "mimetype": "text/x-python",
   "name": "python",
   "nbconvert_exporter": "python",
   "pygments_lexer": "ipython3",
   "version": "3.7.1"
  },
  "varInspector": {
   "cols": {
    "lenName": 16,
    "lenType": 16,
    "lenVar": 40
   },
   "kernels_config": {
    "python": {
     "delete_cmd_postfix": "",
     "delete_cmd_prefix": "del ",
     "library": "var_list.py",
     "varRefreshCmd": "print(var_dic_list())"
    },
    "r": {
     "delete_cmd_postfix": ") ",
     "delete_cmd_prefix": "rm(",
     "library": "var_list.r",
     "varRefreshCmd": "cat(var_dic_list()) "
    }
   },
   "types_to_exclude": [
    "module",
    "function",
    "builtin_function_or_method",
    "instance",
    "_Feature"
   ],
   "window_display": false
  }
 },
 "nbformat": 4,
 "nbformat_minor": 2
}
