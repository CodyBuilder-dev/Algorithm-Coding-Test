{
 "cells": [
  {
   "cell_type": "markdown",
   "metadata": {},
   "source": [
    "1-2강. 비트연산자"
   ]
  },
  {
   "cell_type": "code",
   "execution_count": null,
   "metadata": {},
   "outputs": [],
   "source": [
    "'''\n",
    "목표 : 입력을 받아 원하는 위치의 비트수를 확인하는 프로그램을 작성하라\n",
    "제한조건 : 1. 안보고 짤것\n",
    "2. 테스트 횟수를 5회 미만으로 할 것(테스트 횟수 체크하는 문장 넣기)\n",
    "'''"
   ]
  },
  {
   "cell_type": "code",
   "execution_count": 5,
   "metadata": {},
   "outputs": [
    {
     "name": "stdout",
     "output_type": "stream",
     "text": [
      "0\n",
      "0\n",
      "2\n",
      "2\n",
      "0\n"
     ]
    }
   ],
   "source": [
    "\"내 코드\"\n",
    "\n",
    "cnt = 0 #시도횟수\n",
    "def BitPrint(i,j): #i = 입력, j = 확인할 위치\n",
    "    return i & (1<<j)\n",
    "\n",
    "for i in range(5) :\n",
    "        print(BitPrint(i,1))"
   ]
  },
  {
   "cell_type": "code",
   "execution_count": 7,
   "metadata": {},
   "outputs": [
    {
     "name": "stdout",
     "output_type": "stream",
     "text": [
      "당신이 시도한 횟수는 2번\n"
     ]
    }
   ],
   "source": [
    "#한번 돌리면 시도횟수 1 증가\n",
    "cnt += 1\n",
    "print(\"당신이 시도한 횟수는 {}번\".format(cnt))"
   ]
  },
  {
   "cell_type": "code",
   "execution_count": 1,
   "metadata": {},
   "outputs": [
    {
     "name": "stdout",
     "output_type": "stream",
     "text": [
      "-5 = 11111011\n",
      "-4 = 11111100\n",
      "-3 = 11111101\n",
      "-2 = 11111110\n",
      "-1 = 11111111\n",
      " 0 = 00000000\n",
      " 1 = 00000001\n",
      " 2 = 00000010\n",
      " 3 = 00000011\n",
      " 4 = 00000100\n",
      " 5 = 00000101\n"
     ]
    }
   ],
   "source": [
    "\"예제 코드\" \n",
    "\n",
    "def BitPrint(i):\n",
    "    for j in range(7,-1,-1):\n",
    "            print(\"1\" if (i&(1<<j)) else '0', end=\"\")\n",
    "        \n",
    "for i in range(-5,6):\n",
    "    print(\"%2d = \" % i, end=\"\")\n",
    "    BitPrint(i)\n",
    "    print()"
   ]
  },
  {
   "cell_type": "code",
   "execution_count": null,
   "metadata": {},
   "outputs": [],
   "source": [
    "'''\n",
    "목표 : 4바이트 입력을 받아 1바이트 단위로 읽어\n",
    "비트형태로 출력하여라\n",
    "\n",
    "예시 : x = 0x01020304\n",
    "00000001 00000010 ... 00000100?\n",
    "\n",
    "제한조건 : 1. 안보고 짤것\n",
    "2. 테스트 횟수를 5회 미만으로 할 것(테스트 횟수 체크하는 문장 넣기)\n",
    "'''"
   ]
  },
  {
   "cell_type": "code",
   "execution_count": 9,
   "metadata": {},
   "outputs": [
    {
     "name": "stdout",
     "output_type": "stream",
     "text": [
      "00000101\n",
      "00000100\n",
      "00000100\n",
      "00000011\n"
     ]
    }
   ],
   "source": [
    "\"내 코드\"\n",
    "\n",
    "#위의 BitPrint를 그대로 쓰자\n",
    "\n",
    "a = 0x10\n",
    "x = 0x03040405\n",
    "\n",
    "for i in range(0,32,8) : \n",
    "    temp = (x&(0xFF<<i))>>i\n",
    "    BitPrint(temp)\n",
    "    print()"
   ]
  },
  {
   "cell_type": "code",
   "execution_count": null,
   "metadata": {},
   "outputs": [],
   "source": [
    "\"예제 코드\"\n",
    "\n",
    "#위의 BitPrint를 그대로 쓰자\n",
    "\n",
    "a = 0x10\n",
    "x = 0x03040405\n",
    "\n",
    "for i in range(0,32,8) : \n",
    "    BitPrint(x>>i)\n",
    "    print()"
   ]
  },
  {
   "cell_type": "code",
   "execution_count": null,
   "metadata": {},
   "outputs": [],
   "source": [
    "'''\n",
    "목표 : 아무것도 모르는 상태에서, 본인 컴퓨터의 엔디안을 확인하라\n",
    "\n",
    "예시 : \"이 컴퓨터는 big-endian이다\"\n",
    "\"이 컴퓨터는 little-endian이다.\"\n",
    "\n",
    "제한조건 : 1. 안보고 짤것\n",
    "'''"
   ]
  },
  {
   "cell_type": "code",
   "execution_count": 13,
   "metadata": {},
   "outputs": [
    {
     "name": "stdout",
     "output_type": "stream",
     "text": [
      "이 컴퓨터는 리틀엔디안이다\n"
     ]
    }
   ],
   "source": [
    "\"내 코드\"\n",
    "\n",
    "#엔디안 개념부터 이해\n",
    "#0x01020304로 예를 들면, 리틀 엔디안은 메모리 낮은 자리에 04, 높은 자리에 01\n",
    "#빅 엔디안은 메모리 낮은 자리에 01 메모리 높은 자리에 04?\n",
    "#파이썬의 2,8,16진수는 접두사 0b 0o 0x\n",
    "x = 0x1020304\n",
    "mask = 0xFF\n",
    "\n",
    "if x&mask == 0x04 : print(\"이 컴퓨터는 리틀엔디안이다\")\n",
    "else : print(\"이 컴퓨터는 빅엔디안이다\")\n"
   ]
  },
  {
   "cell_type": "code",
   "execution_count": null,
   "metadata": {},
   "outputs": [],
   "source": []
  }
 ],
 "metadata": {
  "kernelspec": {
   "display_name": "Python 3",
   "language": "python",
   "name": "python3"
  },
  "language_info": {
   "codemirror_mode": {
    "name": "ipython",
    "version": 3
   },
   "file_extension": ".py",
   "mimetype": "text/x-python",
   "name": "python",
   "nbconvert_exporter": "python",
   "pygments_lexer": "ipython3",
   "version": "3.7.1"
  },
  "varInspector": {
   "cols": {
    "lenName": 16,
    "lenType": 16,
    "lenVar": 40
   },
   "kernels_config": {
    "python": {
     "delete_cmd_postfix": "",
     "delete_cmd_prefix": "del ",
     "library": "var_list.py",
     "varRefreshCmd": "print(var_dic_list())"
    },
    "r": {
     "delete_cmd_postfix": ") ",
     "delete_cmd_prefix": "rm(",
     "library": "var_list.r",
     "varRefreshCmd": "cat(var_dic_list()) "
    }
   },
   "types_to_exclude": [
    "module",
    "function",
    "builtin_function_or_method",
    "instance",
    "_Feature"
   ],
   "window_display": false
  }
 },
 "nbformat": 4,
 "nbformat_minor": 2
}
