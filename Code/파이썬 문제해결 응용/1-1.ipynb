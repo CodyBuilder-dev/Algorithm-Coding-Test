{
 "cells": [
  {
   "cell_type": "markdown",
   "metadata": {},
   "source": [
    "1-2강. 비트연산자"
   ]
  },
  {
   "cell_type": "code",
   "execution_count": null,
   "metadata": {},
   "outputs": [],
   "source": [
    "'''\n",
    "목표 : 입력을 받아 원하는 위치의 비트수를 확인하는 프로그램을 작성하라\n",
    "제한조건 : 1. 안보고 짤것\n",
    "2. 테스트 횟수를 5회 미만으로 할 것(테스트 횟수 체크하는 문장 넣기)\n",
    "'''"
   ]
  },
  {
   "cell_type": "code",
   "execution_count": 5,
   "metadata": {},
   "outputs": [
    {
     "name": "stdout",
     "output_type": "stream",
     "text": [
      "0\n",
      "0\n",
      "2\n",
      "2\n",
      "0\n"
     ]
    }
   ],
   "source": [
    "\"내 코드\"\n",
    "\n",
    "cnt = 0 #시도횟수\n",
    "def BitPrint(i,j): #i = 입력, j = 확인할 위치\n",
    "    return i & (1<<j)\n",
    "\n",
    "for i in range(5) :\n",
    "        print(BitPrint(i,1))"
   ]
  },
  {
   "cell_type": "code",
   "execution_count": 7,
   "metadata": {},
   "outputs": [
    {
     "name": "stdout",
     "output_type": "stream",
     "text": [
      "당신이 시도한 횟수는 2번\n"
     ]
    }
   ],
   "source": [
    "#한번 돌리면 시도횟수 1 증가\n",
    "cnt += 1\n",
    "print(\"당신이 시도한 횟수는 {}번\".format(cnt))"
   ]
  },
  {
   "cell_type": "code",
   "execution_count": 48,
   "metadata": {},
   "outputs": [
    {
     "name": "stdout",
     "output_type": "stream",
     "text": [
      "-5 = 11111011\n",
      "-4 = 11111100\n",
      "-3 = 11111101\n",
      "-2 = 11111110\n",
      "-1 = 11111111\n",
      " 0 = 00000000\n",
      " 1 = 00000001\n",
      " 2 = 00000010\n",
      " 3 = 00000011\n",
      " 4 = 00000100\n",
      " 5 = 00000101\n"
     ]
    }
   ],
   "source": [
    "\"예제 코드\" \n",
    "\n",
    "def BitPrint(i):\n",
    "    for j in range(7,-1,-1):\n",
    "            print(\"1\" if (i&(1<<j)) else '0', end=\"\")\n",
    "        \n",
    "for i in range(-5,6):\n",
    "    print(\"%2d = \" % i, end=\"\")\n",
    "    BitPrint(i)\n",
    "    print()"
   ]
  },
  {
   "cell_type": "code",
   "execution_count": null,
   "metadata": {},
   "outputs": [],
   "source": [
    "'''\n",
    "목표 : 4바이트 입력을 받아 1바이트 단위로 읽어\n",
    "비트형태로 출력하여라\n",
    "\n",
    "예시 : x = 0x01020304\n",
    "00000001 00000010 ... 00000100?\n",
    "\n",
    "제한조건 : 1. 안보고 짤것\n",
    "2. 테스트 횟수를 5회 미만으로 할 것(테스트 횟수 체크하는 문장 넣기)\n",
    "'''"
   ]
  },
  {
   "cell_type": "code",
   "execution_count": 9,
   "metadata": {},
   "outputs": [
    {
     "name": "stdout",
     "output_type": "stream",
     "text": [
      "00000101\n",
      "00000100\n",
      "00000100\n",
      "00000011\n"
     ]
    }
   ],
   "source": [
    "\"내 코드\"\n",
    "\n",
    "#위의 BitPrint를 그대로 쓰자\n",
    "\n",
    "a = 0x10\n",
    "x = 0x03040405\n",
    "\n",
    "for i in range(0,32,8) : \n",
    "    temp = (x&(0xFF<<i))>>i\n",
    "    BitPrint(temp)\n",
    "    print()"
   ]
  },
  {
   "cell_type": "code",
   "execution_count": null,
   "metadata": {},
   "outputs": [],
   "source": [
    "\"예제 코드\"\n",
    "\n",
    "#위의 BitPrint를 그대로 쓰자\n",
    "\n",
    "a = 0x10\n",
    "x = 0x03040405\n",
    "\n",
    "for i in range(0,32,8) : \n",
    "    BitPrint(x>>i)\n",
    "    print()"
   ]
  },
  {
   "cell_type": "code",
   "execution_count": null,
   "metadata": {},
   "outputs": [],
   "source": [
    "'''\n",
    "목표 : 아무것도 모르는 상태에서, 본인 컴퓨터의 엔디안을 확인하라\n",
    "\n",
    "예시 : \"이 컴퓨터는 big-endian이다\"\n",
    "\"이 컴퓨터는 little-endian이다.\"\n",
    "\n",
    "제한조건 : 1. 안보고 짤것\n",
    "'''"
   ]
  },
  {
   "cell_type": "code",
   "execution_count": 13,
   "metadata": {},
   "outputs": [
    {
     "name": "stdout",
     "output_type": "stream",
     "text": [
      "이 컴퓨터는 리틀엔디안이다\n"
     ]
    }
   ],
   "source": [
    "\"내 코드\"\n",
    "\n",
    "#엔디안 개념부터 이해\n",
    "#0x01020304로 예를 들면, 리틀 엔디안은 메모리 낮은 자리에 04, 높은 자리에 01\n",
    "#빅 엔디안은 메모리 낮은 자리에 01 메모리 높은 자리에 04?\n",
    "#파이썬의 2,8,16진수는 접두사 0b 0o 0x\n",
    "x = 0x1020304\n",
    "mask = 0xFF\n",
    "\n",
    "if x&mask == 0x04 : print(\"이 컴퓨터는 리틀엔디안이다\")\n",
    "else : print(\"이 컴퓨터는 빅엔디안이다\")\n"
   ]
  },
  {
   "cell_type": "markdown",
   "metadata": {},
   "source": [
    "1-6. 1일차-2진수"
   ]
  },
  {
   "cell_type": "code",
   "execution_count": null,
   "metadata": {},
   "outputs": [],
   "source": [
    "'''\n",
    "목표 :16진수 1자리는 2진수 4자리로 표시된다.\n",
    "\n",
    "N자리 16진수가 주어지면 각 자리 수를 4자리 2진수로 표시하는 프로그램을 만드시오.\n",
    "\n",
    "단, 2진수의 앞자리 0도 반드시 출력한다.\n",
    "\n",
    "예시 : 예를 들어 47FE라는 16진수를 2진수로 표시하면 다음과 같다.\n",
    "\n",
    "0100011111111110\n",
    "\n",
    "제한조건 : 1. 동작 시간 2초/힙 메모리 256MB, 스택 1MB\n",
    "'''"
   ]
  },
  {
   "cell_type": "code",
   "execution_count": null,
   "metadata": {},
   "outputs": [],
   "source": [
    "# 기본 제공코드는 임의 수정해도 관계 없습니다. 단, 입출력 포맷 주의\n",
    "# 아래 표준 입출력 예제 필요시 참고하세요.\n",
    "\n",
    "# 표준 입력 예제\n",
    "'''\n",
    "a = int(input())                        정수형 변수 1개 입력 받는 예제\n",
    "b, c = map(int, input().split())        정수형 변수 2개 입력 받는 예제 \n",
    "d = float(input())                      실수형 변수 1개 입력 받는 예제\n",
    "e, f, g = map(float, input().split())   실수형 변수 3개 입력 받는 예제\n",
    "h = input()                             문자열 변수 1개 입력 받는 예제\n",
    "'''\n",
    "\n",
    "# 표준 출력 예제\n",
    "'''\n",
    "a, b = 6, 3\n",
    "c, d, e = 1.0, 2.5, 3.4\n",
    "f = \"ABC\"\n",
    "print(a)                                정수형 변수 1개 출력하는 예제\n",
    "print(b, end = \" \")                     줄바꿈 하지 않고 정수형 변수와 공백을 출력하는 예제\n",
    "print(c, d, e)                          실수형 변수 3개 출력하는 예제\n",
    "print(f)                                문자열 1개 출력하는 예제\n",
    "'''\n",
    "\n",
    "import sys\n",
    "\n",
    "\n",
    "'''\n",
    "      아래의 구문은 input.txt 를 read only 형식으로 연 후,\n",
    "      앞으로 표준 입력(키보드) 대신 input.txt 파일로부터 읽어오겠다는 의미의 코드입니다.\n",
    "      여러분이 작성한 코드를 테스트 할 때, 편의를 위해서 input.txt에 입력을 저장한 후,\n",
    "      아래 구문을 이용하면 이후 입력을 수행할 때 표준 입력 대신 파일로부터 입력을 받아올 수 있습니다.\n",
    "\n",
    "      따라서 테스트를 수행할 때에는 아래 주석을 지우고 이 구문을 사용하셔도 좋습니다.\n",
    "      아래 구문을 사용하기 위해서는 import sys가 필요합니다.\n",
    "\n",
    "      단, 채점을 위해 코드를 제출하실 때에는 반드시 아래 구문을 지우거나 주석 처리 하셔야 합니다.\n",
    "'''\n",
    "#sys.stdin = open(\"input.txt\", \"r\")\n",
    "\n",
    "T = int(input())\n",
    "# 여러개의 테스트 케이스가 주어지므로, 각각을 처리합니다.\n",
    "for test_case in range(1, T + 1):\n",
    "    # ///////////////////////////////////////////////////////////////////////////////////\n",
    "    N, num = input().split()\n",
    "    N = int(N)\n",
    "    print(\"#{}\".format(test_case),end=\" \")\n",
    "    for i in num :\n",
    "        if i == 'A' : print(\"1010\",end=\"\")\n",
    "        elif i == 'B' : print(\"1011\",end=\"\")\n",
    "        elif i == 'C' : print(\"1100\",end=\"\")\n",
    "        elif i == 'D' : print(\"1101\",end=\"\")\n",
    "        elif i == 'E' : print(\"1110\",end=\"\")\n",
    "        elif i == 'F' : print(\"1111\",end=\"\")\n",
    "        elif i == '0' : print(\"0000\",end=\"\")\n",
    "        elif i == '1' : print(\"0001\",end=\"\")\n",
    "        elif i == '2' : print(\"0010\",end=\"\")\n",
    "        elif i == '3' : print(\"0011\",end=\"\")\n",
    "        elif i == '4' : print(\"0100\",end=\"\")            \n",
    "        elif i == '5' : print(\"0101\",end=\"\")\n",
    "        elif i == '6' : print(\"0110\",end=\"\")\n",
    "        elif i == '7' : print(\"0111\",end=\"\")\n",
    "        elif i == '8' : print(\"1000\",end=\"\")\n",
    "        else : print(\"1001\",end=\"\")\n",
    "\t\t       \n",
    "    print()\n",
    "    # ///////////////////////////////////////////////////////////////////////////////////"
   ]
  },
  {
   "cell_type": "markdown",
   "metadata": {},
   "source": [
    "#### 첫 코테 보면서 느낀점\n",
    "1. jupyter처럼 내가 원하는대로 테스트 코드 짤 공간이 없고,\n",
    "오직 하나의 창에서 코딩이 진행됨. 즉 사소한 문법등등 기억안나면 테스트 못하고 좆됨\n",
    "\n",
    "2. 일단 테스트런으로 컴파일은 마음대로 해볼 수 있음\n",
    "2.1 컴파일 오류 떠도,어떤 오류인지 종류 안보여주고 위치만 보여줌.\n",
    "2.2 밸류에러 등도 종류 안 알려주고 그냥 런타임 에러라고만 뜸\n",
    "2.3 이거 tab이 공백 4칸으로 설정이 안되있으므로, 공백 에러 존나 뜸\n",
    "2.4 메모리에러(메모리 초과나 잘못된 접근)은 알려줌\n",
    "\n",
    "3. 컴파일 해봐서 겉보기에 잘되는데, 제출하면 빵점인 경우는, 답 만 틀린거임.\n",
    "이유는 진짜 사소한 곳에 있음 ㅋㅋ(띄워쓰기 안한다거나...)\n",
    "\n",
    "#### 중요한 코딩 포인트\n",
    "1. 파이썬 input은 무조건 str\n",
    "2. for i in str 가능. 이 경우 문자열 제일 왼쪽에서부터 뒤로 순서 \n",
    "3. str에 비교연산자 == 사용가능\n",
    "4. if문 다음에 굳이 엔터 안 쳐도 같은 줄에 코딩 가능\n",
    "5. print문 안에 if로 출력 분기 가능"
   ]
  }
 ],
 "metadata": {
  "kernelspec": {
   "display_name": "Python 3",
   "language": "python",
   "name": "python3"
  },
  "language_info": {
   "codemirror_mode": {
    "name": "ipython",
    "version": 3
   },
   "file_extension": ".py",
   "mimetype": "text/x-python",
   "name": "python",
   "nbconvert_exporter": "python",
   "pygments_lexer": "ipython3",
   "version": "3.7.1"
  },
  "varInspector": {
   "cols": {
    "lenName": 16,
    "lenType": 16,
    "lenVar": 40
   },
   "kernels_config": {
    "python": {
     "delete_cmd_postfix": "",
     "delete_cmd_prefix": "del ",
     "library": "var_list.py",
     "varRefreshCmd": "print(var_dic_list())"
    },
    "r": {
     "delete_cmd_postfix": ") ",
     "delete_cmd_prefix": "rm(",
     "library": "var_list.r",
     "varRefreshCmd": "cat(var_dic_list()) "
    }
   },
   "types_to_exclude": [
    "module",
    "function",
    "builtin_function_or_method",
    "instance",
    "_Feature"
   ],
   "window_display": false
  }
 },
 "nbformat": 4,
 "nbformat_minor": 2
}
