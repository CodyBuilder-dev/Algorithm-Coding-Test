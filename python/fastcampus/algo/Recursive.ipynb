{
 "metadata": {
  "language_info": {
   "codemirror_mode": {
    "name": "ipython",
    "version": 3
   },
   "file_extension": ".py",
   "mimetype": "text/x-python",
   "name": "python",
   "nbconvert_exporter": "python",
   "pygments_lexer": "ipython3",
   "version": "3.7.6-final"
  },
  "orig_nbformat": 2,
  "kernelspec": {
   "name": "python_defaultSpec_1599413633638",
   "display_name": "Python 3.7.6 64-bit ('data37': conda)"
  }
 },
 "nbformat": 4,
 "nbformat_minor": 2,
 "cells": [
  {
   "cell_type": "markdown",
   "metadata": {},
   "source": [
    "# 재귀\n",
    "- 개념 : 내부에서 자기 자신을 호출하는 것\n",
    "- 수학적 의미 : 수학적 귀납법의 프로그래밍적 구현\n",
    "- 사용 이유 : for문으로는 해결할 수 없는, 깊은 깊이의 반복이 필요할 때 사용\n",
    "\n",
    "## 재귀의 패턴\n",
    "1. 입력이 특정 값/조건 이상이면 -> 자기자신 호출\n",
    "2. 입력이 특정 값/조건에 도달하면 -> 탈출 조건"
   ]
  },
  {
   "cell_type": "code",
   "execution_count": null,
   "metadata": {},
   "outputs": [],
   "source": [
    "# 재귀함수 형태\n",
    "def func(변수) :\n",
    "    if 변수 > 기준 :\n",
    "        return func(새변수)\n",
    "    else :\n",
    "        return 탈출값"
   ]
  },
  {
   "cell_type": "markdown",
   "metadata": {},
   "source": [
    "## 예시 : 팩토리얼 함수"
   ]
  },
  {
   "cell_type": "code",
   "execution_count": 1,
   "metadata": {},
   "outputs": [],
   "source": [
    "def factorial(num) :\n",
    "    if  num > 1 :\n",
    "        return num * factorial(num-1)\n",
    "    else :\n",
    "        return 1"
   ]
  },
  {
   "cell_type": "code",
   "execution_count": 2,
   "metadata": {},
   "outputs": [
    {
     "output_type": "execute_result",
     "data": {
      "text/plain": "30414093201713378043612608166064768844377641568960512000000000000"
     },
     "metadata": {},
     "execution_count": 2
    }
   ],
   "source": [
    "factorial(50)"
   ]
  },
  {
   "cell_type": "markdown",
   "metadata": {},
   "source": [
    "### 복잡도 분석\n",
    "- 시간복잡도 = O(N)\n",
    "- 공간복잡도 = O(N)\n",
    "    - 매 호출마다 지역변수 사용\n",
    "    - 파이썬 프로세스의 콜 스택의 크기는 최대 1000"
   ]
  },
  {
   "cell_type": "code",
   "execution_count": 1,
   "metadata": {},
   "outputs": [],
   "source": [
    "# 재귀 예시 : 합\n",
    "def sum_list(data) :\n",
    "    if len(data) == 1 :\n",
    "        return data[0]\n",
    "    else :\n",
    "        return data[0] + sum_list(data[1:])"
   ]
  },
  {
   "cell_type": "code",
   "execution_count": 7,
   "metadata": {
    "tags": []
   },
   "outputs": [
    {
     "output_type": "stream",
     "name": "stdout",
     "text": "[6, 94, 32, 31, 26, 41, 47, 27, 61, 95, 21, 11, 20, 98, 48, 40, 93, 34, 23, 45]\n893\n"
    },
    {
     "output_type": "execute_result",
     "data": {
      "text/plain": "893"
     },
     "metadata": {},
     "execution_count": 7
    }
   ],
   "source": [
    "# 테스트코드\n",
    "import random\n",
    "data = random.sample(range(100),20)\n",
    "print(data)\n",
    "print(sum(data))\n",
    "sum_list(data)"
   ]
  },
  {
   "cell_type": "code",
   "execution_count": 8,
   "metadata": {},
   "outputs": [],
   "source": [
    "# 재귀 예시 2: 회문(펠린드롬)\n",
    "def palindrome(string) :\n",
    "    if len(string) <= 1 :\n",
    "        return True\n",
    "    if string[0] == string[-1] :\n",
    "        return palindrome(string[1:-1])\n",
    "    else :\n",
    "        return False\n"
   ]
  },
  {
   "cell_type": "code",
   "execution_count": 10,
   "metadata": {},
   "outputs": [
    {
     "output_type": "execute_result",
     "data": {
      "text/plain": "False"
     },
     "metadata": {},
     "execution_count": 10
    }
   ],
   "source": [
    "palindrome(\"abc\")"
   ]
  },
  {
   "cell_type": "code",
   "execution_count": 35,
   "metadata": {},
   "outputs": [],
   "source": [
    "# 재귀 예시 3 : 정수가 1이 될때까지\n",
    "# 반복이 필요한데, for문으로는 회수를 가늠하기 어렵다\n",
    "# while으로 하면\n",
    "def makeOne(num) :\n",
    "    while (num != 1) :\n",
    "        if(num % 2 == 0) :\n",
    "            # num /= 로 해버리면 float되버림\n",
    "            num = num >> 1\n",
    "        else :\n",
    "            num = num*3+1\n",
    "        print(num)\n",
    "\n",
    "# 재귀로 하면\n",
    "def makeOneRecur(num) :\n",
    "    print(num)\n",
    "    if num == 1 :\n",
    "        return\n",
    "\n",
    "    if num % 2 == 0 :\n",
    "        makeOneRecur(num>>1)\n",
    "    else :\n",
    "        makeOneRecur(3*num+1)\n",
    "        "
   ]
  },
  {
   "cell_type": "code",
   "execution_count": 34,
   "metadata": {
    "tags": []
   },
   "outputs": [
    {
     "output_type": "stream",
     "name": "stdout",
     "text": "10\n5\n16\n8\n4\n2\n1\n"
    }
   ],
   "source": [
    "makeOneRecur(10)"
   ]
  },
  {
   "cell_type": "code",
   "execution_count": 41,
   "metadata": {},
   "outputs": [],
   "source": [
    "# 재귀 예시 4: 모든 덧셈의 경우의 수\n",
    "# f(n) = f(n-1) + f(n-2) + f(n-3) 의 점화식 도출 가능\n",
    "# 당연히 DP 사용 가능이지만 여기선 재귀로 푼다\n",
    "# 의문 : 점화식의 초기항을 찾아내는건 결국 사람인데, 이 부분을 자동화 할 수 없나?\n",
    "def sumCase(num) :\n",
    "    if num ==  1 :\n",
    "        return 1\n",
    "    elif num == 2 :\n",
    "        return 2\n",
    "    elif num == 3 :\n",
    "        return 4\n",
    "    else :\n",
    "        return sumCase(num-1) + sumCase(num-2) + sumCase(num-3)\n"
   ]
  },
  {
   "cell_type": "code",
   "execution_count": null,
   "metadata": {},
   "outputs": [],
   "source": [
    "sumCase(100)"
   ]
  },
  {
   "cell_type": "code",
   "execution_count": 46,
   "metadata": {
    "tags": []
   },
   "outputs": [
    {
     "output_type": "error",
     "ename": "RecursionError",
     "evalue": "maximum recursion depth exceeded in comparison",
     "traceback": [
      "\u001b[1;31m---------------------------------------------------------------------------\u001b[0m",
      "\u001b[1;31mRecursionError\u001b[0m                            Traceback (most recent call last)",
      "\u001b[1;32m<ipython-input-46-9ae58ef324b1>\u001b[0m in \u001b[0;36m<module>\u001b[1;34m\u001b[0m\n\u001b[0;32m      2\u001b[0m \u001b[1;33m\u001b[0m\u001b[0m\n\u001b[0;32m      3\u001b[0m \u001b[1;32mfor\u001b[0m \u001b[0mi\u001b[0m \u001b[1;32min\u001b[0m \u001b[0mrange\u001b[0m\u001b[1;33m(\u001b[0m\u001b[1;36m5\u001b[0m\u001b[1;33m)\u001b[0m \u001b[1;33m:\u001b[0m\u001b[1;33m\u001b[0m\u001b[1;33m\u001b[0m\u001b[0m\n\u001b[1;32m----> 4\u001b[1;33m     \u001b[0mprint\u001b[0m\u001b[1;33m(\u001b[0m\u001b[0msumCase\u001b[0m\u001b[1;33m(\u001b[0m\u001b[0mi\u001b[0m\u001b[1;33m)\u001b[0m\u001b[1;33m)\u001b[0m\u001b[1;33m\u001b[0m\u001b[1;33m\u001b[0m\u001b[0m\n\u001b[0m",
      "\u001b[1;32m<ipython-input-41-8884beb3221a>\u001b[0m in \u001b[0;36msumCase\u001b[1;34m(num)\u001b[0m\n\u001b[0;32m     11\u001b[0m         \u001b[1;32mreturn\u001b[0m \u001b[1;36m4\u001b[0m\u001b[1;33m\u001b[0m\u001b[1;33m\u001b[0m\u001b[0m\n\u001b[0;32m     12\u001b[0m     \u001b[1;32melse\u001b[0m \u001b[1;33m:\u001b[0m\u001b[1;33m\u001b[0m\u001b[1;33m\u001b[0m\u001b[0m\n\u001b[1;32m---> 13\u001b[1;33m         \u001b[1;32mreturn\u001b[0m \u001b[0msumCase\u001b[0m\u001b[1;33m(\u001b[0m\u001b[0mnum\u001b[0m\u001b[1;33m-\u001b[0m\u001b[1;36m1\u001b[0m\u001b[1;33m)\u001b[0m \u001b[1;33m+\u001b[0m \u001b[0msumCase\u001b[0m\u001b[1;33m(\u001b[0m\u001b[0mnum\u001b[0m\u001b[1;33m-\u001b[0m\u001b[1;36m2\u001b[0m\u001b[1;33m)\u001b[0m \u001b[1;33m+\u001b[0m \u001b[0msumCase\u001b[0m\u001b[1;33m(\u001b[0m\u001b[0mnum\u001b[0m\u001b[1;33m-\u001b[0m\u001b[1;36m3\u001b[0m\u001b[1;33m)\u001b[0m\u001b[1;33m\u001b[0m\u001b[1;33m\u001b[0m\u001b[0m\n\u001b[0m",
      "... last 1 frames repeated, from the frame below ...\n",
      "\u001b[1;32m<ipython-input-41-8884beb3221a>\u001b[0m in \u001b[0;36msumCase\u001b[1;34m(num)\u001b[0m\n\u001b[0;32m     11\u001b[0m         \u001b[1;32mreturn\u001b[0m \u001b[1;36m4\u001b[0m\u001b[1;33m\u001b[0m\u001b[1;33m\u001b[0m\u001b[0m\n\u001b[0;32m     12\u001b[0m     \u001b[1;32melse\u001b[0m \u001b[1;33m:\u001b[0m\u001b[1;33m\u001b[0m\u001b[1;33m\u001b[0m\u001b[0m\n\u001b[1;32m---> 13\u001b[1;33m         \u001b[1;32mreturn\u001b[0m \u001b[0msumCase\u001b[0m\u001b[1;33m(\u001b[0m\u001b[0mnum\u001b[0m\u001b[1;33m-\u001b[0m\u001b[1;36m1\u001b[0m\u001b[1;33m)\u001b[0m \u001b[1;33m+\u001b[0m \u001b[0msumCase\u001b[0m\u001b[1;33m(\u001b[0m\u001b[0mnum\u001b[0m\u001b[1;33m-\u001b[0m\u001b[1;36m2\u001b[0m\u001b[1;33m)\u001b[0m \u001b[1;33m+\u001b[0m \u001b[0msumCase\u001b[0m\u001b[1;33m(\u001b[0m\u001b[0mnum\u001b[0m\u001b[1;33m-\u001b[0m\u001b[1;36m3\u001b[0m\u001b[1;33m)\u001b[0m\u001b[1;33m\u001b[0m\u001b[1;33m\u001b[0m\u001b[0m\n\u001b[0m",
      "\u001b[1;31mRecursionError\u001b[0m: maximum recursion depth exceeded in comparison"
     ]
    }
   ],
   "source": [
    "# 테스트코드\n",
    "\n",
    "for i in range(5) :\n",
    "    print(sumCase(i))"
   ]
  },
  {
   "cell_type": "code",
   "execution_count": null,
   "metadata": {},
   "outputs": [],
   "source": []
  }
 ]
}