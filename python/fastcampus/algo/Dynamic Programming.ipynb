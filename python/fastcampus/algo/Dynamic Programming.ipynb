{
 "metadata": {
  "language_info": {
   "codemirror_mode": {
    "name": "ipython",
    "version": 3
   },
   "file_extension": ".py",
   "mimetype": "text/x-python",
   "name": "python",
   "nbconvert_exporter": "python",
   "pygments_lexer": "ipython3",
   "version": "3.7.6-final"
  },
  "orig_nbformat": 2,
  "kernelspec": {
   "name": "python_defaultSpec_1599397213044",
   "display_name": "Python 3.7.6 64-bit"
  }
 },
 "nbformat": 4,
 "nbformat_minor": 2,
 "cells": [
  {
   "cell_type": "markdown",
   "metadata": {},
   "source": [
    "# 동적 계획법과 분할 정복\n",
    "## 동적 계획법과 분할정복의 정의\n",
    "동적 계획법 : 점화식을 찾아서 문제를 푸는 것  \n",
    "분할 정복 : 문제를 부분문제로 나눈 후, 부분문제를 합치면서 푸는 것\n",
    "\n",
    "## 동적계획법과 분할정복의 구현\n",
    "동적 계획법 : 점화식과 수열(배열)  \n",
    "분할 정복 : 재귀\n",
    "\n",
    "## 공통점과 차이점\n",
    "동적 계획법 :  \n",
    "1. 점화식은 중복/반복됨  \n",
    "2. 상향식(Bottom Up)  \n",
    "분할 정복 :  \n",
    "1. 각 부분 문제는 중복/반복되지는 않음  \n",
    "2. 하향식(Top-Down)"
   ]
  },
  {
   "cell_type": "markdown",
   "metadata": {},
   "source": [
    "## 프로그래밍 구현\n",
    "### 동적 계획법 : 피보나치 수열"
   ]
  },
  {
   "cell_type": "code",
   "execution_count": 3,
   "metadata": {},
   "outputs": [],
   "source": [
    "# 재귀로 구현\n",
    "def fibo(num) :\n",
    "    if num == 0 :\n",
    "        return 0\n",
    "    if num == 1 :\n",
    "        return 1\n",
    "    return fibo(num-1) + fibo(num-2)"
   ]
  },
  {
   "cell_type": "code",
   "execution_count": null,
   "metadata": {},
   "outputs": [],
   "source": [
    "# 재귀로 구현할 경우, 엄청난 함수 호출이 발생\n",
    "fibo(100)"
   ]
  },
  {
   "cell_type": "code",
   "execution_count": 20,
   "metadata": {},
   "outputs": [],
   "source": [
    "# 동적계획법 구현\n",
    "# 당연히 list의 길이와 index에 주의!\n",
    "def fibo_dp(num) :\n",
    "    cache = [0] * (num+1)\n",
    "    cache[0] = 0\n",
    "    cache[1] = 1\n",
    "    for i in range(2,num+1) :\n",
    "        cache[i] = cache[i-1] + cache[i-2]\n",
    "    \n",
    "    return(cache[num])\n",
    "\n"
   ]
  },
  {
   "cell_type": "code",
   "execution_count": 21,
   "metadata": {
    "tags": []
   },
   "outputs": [
    {
     "output_type": "execute_result",
     "data": {
      "text/plain": "43466557686937456435688527675040625802564660517371780402481729089536555417949051890403879840079255169295922593080322634775209689623239873322471161642996440906533187938298969649928516003704476137795166849228875"
     },
     "metadata": {},
     "execution_count": 21
    }
   ],
   "source": [
    "fibo_dp(1000)"
   ]
  },
  {
   "cell_type": "code",
   "execution_count": null,
   "metadata": {},
   "outputs": [],
   "source": []
  }
 ]
}