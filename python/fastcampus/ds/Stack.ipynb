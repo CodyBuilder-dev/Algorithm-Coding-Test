{
 "metadata": {
  "language_info": {
   "codemirror_mode": {
    "name": "ipython",
    "version": 3
   },
   "file_extension": ".py",
   "mimetype": "text/x-python",
   "name": "python",
   "nbconvert_exporter": "python",
   "pygments_lexer": "ipython3",
   "version": "3.7.6-final"
  },
  "orig_nbformat": 2,
  "kernelspec": {
   "name": "python_defaultSpec_1598788471158",
   "display_name": "Python 3.7.6 64-bit ('data37': conda)"
  }
 },
 "nbformat": 4,
 "nbformat_minor": 2,
 "cells": [
  {
   "cell_type": "markdown",
   "metadata": {},
   "source": [
    "# 스택(Stack)\n",
    "- 개념 : LIFO를 만족하는 자료구조\n",
    "- 파이썬 구현체 : LIST 내에 append/pop이 Stack의 push/pop에 대응됨"
   ]
  },
  {
   "cell_type": "markdown",
   "metadata": {},
   "source": [
    "## 스택의 장단점\n",
    "- 장점 : 삽입/삭제 빠름 ( **O(1)**)\n",
    "- 단점 : 스택 깊이에 제한이 있고, 미리 선언해 둬야 함 \n",
    "    - 파이썬의 함수 스택은 최대 1000회\n",
    "    - Array 로 구현할 경우,당장 사용하지 않는 공간도 선언에 의해 차지하고 있음\n",
    "    - Linked List 로 구현할 경우 위의 단점이 비교적 희석됨\n",
    "- 용도 : 프로세스 내의 함수의 동작 방식"
   ]
  },
  {
   "cell_type": "code",
   "execution_count": 1,
   "metadata": {},
   "outputs": [],
   "source": [
    "# 함수의 Stack 구조 동작의 예시\n",
    "def recursive(data) :\n",
    "    if data < 0 :\n",
    "        print('end')\n",
    "    else :\n",
    "        print(data)\n",
    "        recursive(data - 1)\n",
    "        print(data)"
   ]
  },
  {
   "cell_type": "code",
   "execution_count": 5,
   "metadata": {
    "tags": []
   },
   "outputs": [
    {
     "output_type": "stream",
     "name": "stdout",
     "text": "5\n4\n3\n2\n1\n0\nend\n0\n1\n2\n3\n4\n5\n"
    }
   ],
   "source": [
    "recursive(5)"
   ]
  },
  {
   "cell_type": "markdown",
   "metadata": {},
   "source": [
    "## 프로그래밍 연습\n",
    "### 연습 1 . 리스트로 Stack 사용해보기"
   ]
  },
  {
   "cell_type": "code",
   "execution_count": 5,
   "metadata": {},
   "outputs": [
    {
     "output_type": "execute_result",
     "data": {
      "text/plain": "7"
     },
     "metadata": {},
     "execution_count": 5
    }
   ],
   "source": [
    "target_stack = []\n",
    "\n",
    "# push\n",
    "target_stack.append(5)\n",
    "target_stack.append(7)\n",
    "\n",
    "# pop\n",
    "# pop에 index를 넣지 않을 경우 default index = -1임\n",
    "target_stack.pop()"
   ]
  },
  {
   "cell_type": "markdown",
   "metadata": {},
   "source": [
    "### 연습 2. 리스트로 Stack 구현해보기(pop 사용 금지)"
   ]
  },
  {
   "cell_type": "code",
   "execution_count": 22,
   "metadata": {},
   "outputs": [],
   "source": [
    "target_stack = []\n",
    "\n",
    "def push(data) :\n",
    "    target_stack.append(data)\n",
    "\n",
    "def pop() :\n",
    "    data = target_stack[-1]\n",
    "    del target_stack[-1]\n",
    "    return data"
   ]
  },
  {
   "cell_type": "code",
   "execution_count": 40,
   "metadata": {},
   "outputs": [],
   "source": [
    "push(2)\n",
    "push(4)\n",
    "push(6)"
   ]
  },
  {
   "cell_type": "code",
   "execution_count": 41,
   "metadata": {},
   "outputs": [
    {
     "output_type": "execute_result",
     "data": {
      "text/plain": "[2, 4, 6]"
     },
     "metadata": {},
     "execution_count": 41
    }
   ],
   "source": [
    "target_stack"
   ]
  },
  {
   "cell_type": "code",
   "execution_count": 42,
   "metadata": {},
   "outputs": [
    {
     "output_type": "execute_result",
     "data": {
      "text/plain": "6"
     },
     "metadata": {},
     "execution_count": 42
    }
   ],
   "source": [
    "pop()"
   ]
  }
 ]
}